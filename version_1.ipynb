{
 "cells": [
  {
   "cell_type": "code",
   "execution_count": 60,
   "metadata": {},
   "outputs": [],
   "source": [
    "import random\n",
    "import matplotlib.pyplot as plt\n",
    "import math\n",
    "import time"
   ]
  },
  {
   "cell_type": "code",
   "execution_count": 61,
   "metadata": {},
   "outputs": [],
   "source": [
    "random.seed(1)\n",
    "habitable_width, habitable_length = 100, 100\n",
    "a_second_in_simulation = 1/(24*60*60)"
   ]
  },
  {
   "cell_type": "code",
   "execution_count": 62,
   "metadata": {},
   "outputs": [],
   "source": [
    "class Location:\n",
    "    def __init__ (self, x, y):\n",
    "        self.x = x\n",
    "        self.y = y\n",
    "    def __eq__ (self, other):\n",
    "        return (self.x == other.x) and (self.y == other.y)\n",
    "    def __hash__ (self):\n",
    "        return hash((self.x, self.y))"
   ]
  },
  {
   "cell_type": "code",
   "execution_count": 63,
   "metadata": {},
   "outputs": [],
   "source": [
    "def random_house_location():\n",
    "    #naming the side on x-axis '1' and the following sides similarly in clockwise direction\n",
    "    chosen_side = random.randint(1, 4)\n",
    "    match chosen_side:\n",
    "        case 1:\n",
    "            return Location(x = random.randrange(0, habitable_length), y = 0)\n",
    "        case 2:\n",
    "            return Location(x = habitable_length, y = random.randrange(1, habitable_width))\n",
    "        case 3:\n",
    "            return Location(x = random.randrange(0, habitable_length - 1), y = habitable_width)\n",
    "        case 4:\n",
    "            return Location(x = 0, y = random.randrange(1, habitable_width - 1))"
   ]
  },
  {
   "cell_type": "code",
   "execution_count": 64,
   "metadata": {},
   "outputs": [],
   "source": [
    "class Organism:\n",
    "    def __init__ (self, location, health, energy, mass, energy_required_to_survive, surplus_energy_to_reproduce):\n",
    "        self.health = health\n",
    "        self.energy = energy\n",
    "        self.mass = mass\n",
    "        self.location = location\n",
    "        self.energy_required_to_survive = energy_required_to_survive #current amount of energy required, if excess by an amount delta than reproduce\n",
    "        self.surplus_energy_to_reproduce = surplus_energy_to_reproduce # if energy surplus == this amount, then reproduce\n",
    "    def isAlive(self):\n",
    "        return self.health > 0\n",
    "    def speed(self):\n",
    "        return math.sqrt(2*self.energy/self.mass)\n",
    "    def move(self):\n",
    "        self.location.x += random.choice([-1, 0, 1])\n",
    "        self.location.y += random.choice([-1, 0, 1])"
   ]
  },
  {
   "cell_type": "code",
   "execution_count": 65,
   "metadata": {},
   "outputs": [],
   "source": [
    "class Food:\n",
    "    def __init__ (self, location, energy):\n",
    "        self.energy = energy\n",
    "        self.location = location"
   ]
  },
  {
   "cell_type": "code",
   "execution_count": 66,
   "metadata": {},
   "outputs": [],
   "source": [
    "def airdrop_food(food_quantity):\n",
    "    food_data = [Food(energy = random.randrange(10, 20), location = Location(random.randrange(2, habitable_length - 1), random.randrange(2, habitable_width - 1))) for _ in range(food_quantity)]\n",
    "    food_map = {food.location : food for food in food_data}\n",
    "    return food_map"
   ]
  },
  {
   "cell_type": "code",
   "execution_count": 67,
   "metadata": {},
   "outputs": [],
   "source": [
    "class Simple_organism(Organism):\n",
    "    def __init__ (self, location, health = 1, energy = 5, mass = 1, energy_required_to_survive = 10, surplus_energy_to_reproduce = 10):\n",
    "        super().__init__(location, health, energy, mass, energy_required_to_survive, surplus_energy_to_reproduce)"
   ]
  },
  {
   "cell_type": "code",
   "execution_count": 68,
   "metadata": {},
   "outputs": [],
   "source": [
    "def play_game(being_1, being_2):\n",
    "    #returns 1 if being_1 wins\n",
    "    return random.choice([0, 0.5, 1])"
   ]
  },
  {
   "cell_type": "code",
   "execution_count": 69,
   "metadata": {},
   "outputs": [],
   "source": [
    "def high_precision_sleep(duration):\n",
    "    start_time = time.perf_counter()\n",
    "    while True:\n",
    "        elapsed_time = time.perf_counter() - start_time\n",
    "        remaining_time = duration - elapsed_time\n",
    "        if remaining_time <= 0:\n",
    "            break\n",
    "        if remaining_time > 0.02:  # Sleep for 5ms if remaining time is greater\n",
    "            time.sleep(max(remaining_time/2, 0.0001))  # Sleep for the remaining time or minimum sleep interval\n",
    "        else:\n",
    "            pass"
   ]
  },
  {
   "cell_type": "code",
   "execution_count": 70,
   "metadata": {},
   "outputs": [
    {
     "name": "stdout",
     "output_type": "stream",
     "text": [
      "Day ... 100/100\r"
     ]
    }
   ],
   "source": [
    "food_airdropped_per_day = 100\n",
    "total_fauna = 100\n",
    "fauna = [Simple_organism(location = random_house_location()) for _ in range(total_fauna)] # organism spawned\n",
    "fauna_alive = total_fauna\n",
    "fauna_alive_history = [fauna_alive]\n",
    "max_days = 100\n",
    "food_map = airdrop_food(food_airdropped_per_day) #initialization\n",
    "time_of_day_in_sec = 0\n",
    "days_passed = 0\n",
    "\n",
    "while days_passed <= max_days:\n",
    "    print(f\"Day ... {days_passed}/{max_days}\", end = \"\\r\")\n",
    "    stop_clock = False\n",
    "    while not stop_clock:\n",
    "        high_precision_sleep(a_second_in_simulation)\n",
    "        time_of_day_in_sec += 1\n",
    "        i_finds_food = False\n",
    "        i_meets_j = -1\n",
    "        for being in fauna:          #\n",
    "            if being.isAlive():      # Move all beings\n",
    "                being.move()         #\n",
    "        being_to_delete = []\n",
    "        for i in range(len(fauna)): #using i to avoid repeated cases\n",
    "            if fauna[i].isAlive():\n",
    "                i_meets_j = -1\n",
    "                i_finds_food = False\n",
    "                for j in range(i+1, len(fauna)):\n",
    "                    if not fauna[j].isAlive():\n",
    "                        continue\n",
    "                    if fauna[i].location == fauna[j].location:\n",
    "                        i_meets_j = j\n",
    "                        break\n",
    "                if fauna[i].location in food_map:\n",
    "                    i_finds_food = True\n",
    "                if i_finds_food and not i_meets_j == -1:\n",
    "                    #distribute food among i and j based on the result of a game between i and j\n",
    "                    #for game, 1 indicates winning, 0 for losing and 0.5 for a draw\n",
    "                    i_wins = play_game(fauna[i], fauna[i_meets_j])\n",
    "                    fauna[i].energy += i_wins * food_map[fauna[i].location].energy\n",
    "                    fauna[i_meets_j].energy += (1 - i_wins) * food_map[fauna[i_meets_j].location].energy\n",
    "                    del food_map[fauna[i].location]\n",
    "                elif i_finds_food and i_meets_j == -1:\n",
    "                    fauna[i].energy += food_map[fauna[i].location].energy\n",
    "                elif not i_finds_food and not i_meets_j == -1:\n",
    "                    i_wins = play_game(fauna[i], fauna[i_meets_j])\n",
    "                    #loser dies\n",
    "                    if i_wins == 1:\n",
    "                        being_to_delete.append(i_meets_j)\n",
    "                        fauna[i_meets_j].health = 0\n",
    "                        fauna_alive -= 1\n",
    "                    elif i_wins == 0:\n",
    "                        being_to_delete.append(i)\n",
    "                        fauna[i].health = 0\n",
    "                        fauna_alive -= 1\n",
    "                    #else both live\n",
    "        being_to_delete.sort(reverse = True)\n",
    "        for i in being_to_delete:\n",
    "            del fauna[i]\n",
    "        if time_of_day_in_sec == 86400: #60*60*24,i.e., a day has passed, now check who has the energy to survive \n",
    "            days_passed += 1\n",
    "            time_of_day_in_sec = 0\n",
    "            stop_clock = True\n",
    "            for being in fauna:\n",
    "                if being.isAlive():\n",
    "                    if being.energy >= being.energy_required_to_survive:\n",
    "                        # being survives\n",
    "                        being.health = 1\n",
    "                        being.energy -= being.energy_required_to_survive\n",
    "                        if being.energy >= being.surplus_energy_to_reproduce:\n",
    "                            #being reproduces\n",
    "                            fauna.append(Simple_organism(location = random_house_location()))\n",
    "                            fauna_alive += 1\n",
    "                            being.energy -= being.surplus_energy_to_reproduce\n",
    "                        #being is still alive, therefore, it goes back to the village\n",
    "                        being.location = random_house_location()\n",
    "                    else:\n",
    "                        #being dies\n",
    "                        being.health = 0\n",
    "                        fauna_alive -= 1\n",
    "            fauna_alive_history.append(fauna_alive)"
   ]
  },
  {
   "cell_type": "code",
   "execution_count": 71,
   "metadata": {},
   "outputs": [
    {
     "data": {
      "image/png": "[encoded data removed]",
      "text/plain": [
       "<Figure size 640x480 with 1 Axes>"
      ]
     },
     "metadata": {},
     "output_type": "display_data"
    }
   ],
   "source": [
    "plt.plot(fauna_alive_history, label = \"History\")\n",
    "plt.xlabel('Days')\n",
    "plt.ylabel('Organisms')\n",
    "plt.show()"
   ]
  },
  {
   "cell_type": "code",
   "execution_count": null,
   "metadata": {},
   "outputs": [],
   "source": []
  }
 ],
 "metadata": {
  "kernelspec": {
   "display_name": "Python 3",
   "language": "python",
   "name": "python3"
  },
  "language_info": {
   "codemirror_mode": {
    "name": "ipython",
    "version": 3
   },
   "file_extension": ".py",
   "mimetype": "text/x-python",
   "name": "python",
   "nbconvert_exporter": "python",
   "pygments_lexer": "ipython3",
   "version": "3.12.1"
  }
 },
 "nbformat": 4,
 "nbformat_minor": 2
}
