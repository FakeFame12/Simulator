{
 "cells": [
  {
   "cell_type": "code",
   "execution_count": 1,
   "metadata": {},
   "outputs": [],
   "source": [
    "import random\n",
    "import matplotlib.pyplot as plt"
   ]
  },
  {
   "cell_type": "code",
   "execution_count": 2,
   "metadata": {},
   "outputs": [],
   "source": [
    "random.seed(1)"
   ]
  },
  {
   "cell_type": "code",
   "execution_count": 3,
   "metadata": {},
   "outputs": [],
   "source": [
    "habitable_width, habitable_length = 100, 100"
   ]
  },
  {
   "cell_type": "code",
   "execution_count": 4,
   "metadata": {},
   "outputs": [],
   "source": [
    "class Location:\n",
    "    def __init__ (self, x, y):\n",
    "        self.x = x\n",
    "        self.y = y\n",
    "    def __eq__ (self, other):\n",
    "        return (self.x == other.x) and (self.y == other.y)\n",
    "    def __hash__ (self):\n",
    "        return hash((self.x, self.y))"
   ]
  },
  {
   "cell_type": "code",
   "execution_count": 5,
   "metadata": {},
   "outputs": [],
   "source": [
    "def random_house_location():\n",
    "    #naming the side on x-axis '1' and the following sides similarly in clockwise direction\n",
    "    chosen_side = random.randint(1, 4)\n",
    "    match chosen_side:\n",
    "        case 1:\n",
    "            return Location(x = random.randrange(0, habitable_length), y = 0)\n",
    "        case 2:\n",
    "            return Location(x = habitable_length, y = random.randrange(1, habitable_width))\n",
    "        case 3:\n",
    "            return Location(x = random.randrange(0, habitable_length - 1), y = habitable_width)\n",
    "        case 4:\n",
    "            return Location(x = 0, y = random.randrange(1, habitable_width - 1))"
   ]
  },
  {
   "cell_type": "code",
   "execution_count": 6,
   "metadata": {},
   "outputs": [],
   "source": [
    "class Organism:\n",
    "    def __init__ (self, location, health, energy, mass, energy_required_to_survive, surplus_energy_to_reproduce):\n",
    "        self.health = health\n",
    "        self.energy = energy\n",
    "        self.mass = mass\n",
    "        self.location = location\n",
    "        self.energy_required_to_survive = energy_required_to_survive #current amount of energy required, if excess by an amount delta than reproduce\n",
    "        self.surplus_energy_to_reproduce = surplus_energy_to_reproduce # if energy surplus == this amount, then reproduce\n",
    "    def isAlive(self):\n",
    "        return self.health > 0"
   ]
  },
  {
   "cell_type": "code",
   "execution_count": 7,
   "metadata": {},
   "outputs": [],
   "source": [
    "class Food:\n",
    "    def __init__ (self, location, energy):\n",
    "        self.energy = energy\n",
    "        self.location = location"
   ]
  },
  {
   "cell_type": "code",
   "execution_count": 8,
   "metadata": {},
   "outputs": [],
   "source": [
    "def airdrop_food(food_quantity):\n",
    "    food_data = [Food(energy = random.randrange(10, 20), location = Location(random.randrange(2, habitable_length - 1), random.randrange(2, habitable_width - 1))) for _ in range(food_quantity)]\n",
    "    food_map = {food.location : food for food in food_data}\n",
    "    return food_map"
   ]
  },
  {
   "cell_type": "code",
   "execution_count": 9,
   "metadata": {},
   "outputs": [],
   "source": [
    "class Simple_organism(Organism):\n",
    "    def __init__ (self, location, health = 1, energy = 5, mass = 1, energy_required_to_survive = 10, surplus_energy_to_reproduce = 10):\n",
    "        super().__init__(location, health, energy, mass, energy_required_to_survive, surplus_energy_to_reproduce)"
   ]
  },
  {
   "cell_type": "code",
   "execution_count": 10,
   "metadata": {},
   "outputs": [],
   "source": [
    "food_airdropped_per_day = 100"
   ]
  },
  {
   "cell_type": "code",
   "execution_count": 11,
   "metadata": {},
   "outputs": [
    {
     "name": "stdout",
     "output_type": "stream",
     "text": [
      "Day ................................... 0\n",
      "Day ................................... 1\n",
      "Day ................................... 2\n",
      "Day ................................... 3\n",
      "Day ................................... 4\n",
      "Day ................................... 5\n",
      "Day ................................... 6\n",
      "Day ................................... 7\n",
      "Day ................................... 8\n",
      "Day ................................... 9\n",
      "Day ................................... 10\n",
      "Day ................................... 11\n",
      "Day ................................... 12\n",
      "Day ................................... 13\n",
      "Day ................................... 14\n",
      "Day ................................... 15\n",
      "Day ................................... 16\n",
      "Day ................................... 17\n",
      "Day ................................... 18\n",
      "Day ................................... 19\n",
      "Day ................................... 20\n",
      "Day ................................... 21\n",
      "Day ................................... 22\n",
      "Day ................................... 23\n",
      "Day ................................... 24\n",
      "Day ................................... 25\n",
      "Day ................................... 26\n",
      "Day ................................... 27\n",
      "Day ................................... 28\n",
      "Day ................................... 29\n",
      "Day ................................... 30\n",
      "Day ................................... 31\n",
      "Day ................................... 32\n",
      "Day ................................... 33\n",
      "Day ................................... 34\n",
      "Day ................................... 35\n",
      "Day ................................... 36\n",
      "Day ................................... 37\n",
      "Day ................................... 38\n",
      "Day ................................... 39\n",
      "Day ................................... 40\n",
      "Day ................................... 41\n",
      "Day ................................... 42\n",
      "Day ................................... 43\n",
      "Day ................................... 44\n",
      "Day ................................... 45\n",
      "Day ................................... 46\n",
      "Day ................................... 47\n",
      "Day ................................... 48\n",
      "Day ................................... 49\n",
      "Day ................................... 50\n",
      "Day ................................... 51\n",
      "Day ................................... 52\n",
      "Day ................................... 53\n",
      "Day ................................... 54\n",
      "Day ................................... 55\n",
      "Day ................................... 56\n",
      "Day ................................... 57\n",
      "Day ................................... 58\n",
      "Day ................................... 59\n",
      "Day ................................... 60\n",
      "Day ................................... 61\n",
      "Day ................................... 62\n",
      "Day ................................... 63\n",
      "Day ................................... 64\n",
      "Day ................................... 65\n",
      "Day ................................... 66\n",
      "Day ................................... 67\n",
      "Day ................................... 68\n",
      "Day ................................... 69\n",
      "Day ................................... 70\n",
      "Day ................................... 71\n",
      "Day ................................... 72\n",
      "Day ................................... 73\n",
      "Day ................................... 74\n",
      "Day ................................... 75\n",
      "Day ................................... 76\n",
      "Day ................................... 77\n",
      "Day ................................... 78\n",
      "Day ................................... 79\n",
      "Day ................................... 80\n",
      "Day ................................... 81\n",
      "Day ................................... 82\n",
      "Day ................................... 83\n",
      "Day ................................... 84\n",
      "Day ................................... 85\n",
      "Day ................................... 86\n",
      "Day ................................... 87\n",
      "Day ................................... 88\n",
      "Day ................................... 89\n",
      "Day ................................... 90\n",
      "Day ................................... 91\n",
      "Day ................................... 92\n",
      "Day ................................... 93\n",
      "Day ................................... 94\n",
      "Day ................................... 95\n",
      "Day ................................... 96\n",
      "Day ................................... 97\n",
      "Day ................................... 98\n",
      "Day ................................... 99\n"
     ]
    }
   ],
   "source": [
    "total_fauna = 100\n",
    "fauna = [Simple_organism(location = random_house_location()) for _ in range(total_fauna)] # organism spawned\n",
    "fauna_alive = total_fauna\n",
    "fauna_alive_history = [fauna_alive]\n",
    "for day in range(100):\n",
    "    print(f\"Day ................................... {day}\")\n",
    "    food_map = airdrop_food(food_airdropped_per_day)\n",
    "    for being in fauna:\n",
    "        if being.isAlive():\n",
    "            being.location = Location(random.randrange(2, habitable_length - 1), random.randrange(2, habitable_width - 1))\n",
    "            if being.location in food_map:\n",
    "                #being succeeds to find food\n",
    "                being.energy += food_map[being.location].energy\n",
    "                del food_map[being.location]\n",
    "            if being.energy >= being.energy_required_to_survive:\n",
    "                # being survives\n",
    "                being.health = 1\n",
    "                being.energy -= being.energy_required_to_survive\n",
    "                if being.energy >= being.surplus_energy_to_reproduce:\n",
    "                    #being reproduces\n",
    "                    fauna.append(Simple_organism(location = random_house_location()))\n",
    "                    fauna_alive += 1\n",
    "                    being.energy -= being.surplus_energy_to_reproduce\n",
    "                #being is still alive, therefore, it goes back to the village\n",
    "                being.location = random_house_location()\n",
    "            else:\n",
    "                #being dies\n",
    "                being.health = 0\n",
    "                fauna_alive -= 1\n",
    "    fauna_alive_history.append(fauna_alive)"
   ]
  },
  {
   "cell_type": "code",
   "execution_count": 12,
   "metadata": {},
   "outputs": [
    {
     "data": {
      "image/png": "[encoded data removed]",
      "text/plain": [
       "<Figure size 640x480 with 1 Axes>"
      ]
     },
     "metadata": {},
     "output_type": "display_data"
    }
   ],
   "source": [
    "plt.plot(fauna_alive_history, label = \"History\")\n",
    "plt.xlabel('Days')\n",
    "plt.ylabel('Organisms')\n",
    "plt.show()"
   ]
  },
  {
   "cell_type": "code",
   "execution_count": null,
   "metadata": {},
   "outputs": [],
   "source": []
  }
 ],
 "metadata": {
  "kernelspec": {
   "display_name": "Python 3",
   "language": "python",
   "name": "python3"
  },
  "language_info": {
   "codemirror_mode": {
    "name": "ipython",
    "version": 3
   },
   "file_extension": ".py",
   "mimetype": "text/x-python",
   "name": "python",
   "nbconvert_exporter": "python",
   "pygments_lexer": "ipython3",
   "version": "3.12.1"
  }
 },
 "nbformat": 4,
 "nbformat_minor": 2
}
